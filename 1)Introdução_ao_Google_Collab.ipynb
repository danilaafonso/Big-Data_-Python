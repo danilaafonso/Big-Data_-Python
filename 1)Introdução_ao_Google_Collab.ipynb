{
  "nbformat": 4,
  "nbformat_minor": 0,
  "metadata": {
    "colab": {
      "provenance": [],
      "collapsed_sections": [
        "qk_eA_8vnK96",
        "IZ7h242UocsD",
        "uTZGJLtQohoD",
        "hVFeCcGgouT7",
        "ZvItkY2Xo7br",
        "WLteatAAo9MT",
        "Zb4kTtG6pEhD",
        "QyWt29f6pGFb",
        "0wObrDCYpU8T",
        "_i48kgnNVcDO",
        "eB995qA7do2c"
      ],
      "include_colab_link": true
    },
    "kernelspec": {
      "name": "python3",
      "display_name": "Python 3"
    },
    "language_info": {
      "name": "python"
    }
  },
  "cells": [
    {
      "cell_type": "markdown",
      "metadata": {
        "id": "view-in-github",
        "colab_type": "text"
      },
      "source": [
        "<a href=\"https://colab.research.google.com/github/danilaafonso/Big-Data_-Python/blob/main/1)Introdu%C3%A7%C3%A3o_ao_Google_Collab.ipynb\" target=\"_parent\"><img src=\"https://colab.research.google.com/assets/colab-badge.svg\" alt=\"Open In Colab\"/></a>"
      ]
    },
    {
      "cell_type": "markdown",
      "source": [
        "# Introdução ao Google collab"
      ],
      "metadata": {
        "id": "ECDNWtcpiXsa"
      }
    },
    {
      "cell_type": "markdown",
      "source": [
        "Neste Bloco de notas executaremos algumas funções do python para nos ambientarmos com a plataforma."
      ],
      "metadata": {
        "id": "htS9umoTiMw1"
      }
    },
    {
      "cell_type": "markdown",
      "source": [
        "## Função Print"
      ],
      "metadata": {
        "id": "qk_eA_8vnK96"
      }
    },
    {
      "cell_type": "markdown",
      "source": [
        "Exemplo de como a função print pode ser utilizada."
      ],
      "metadata": {
        "id": "MnJL3w3GncYj"
      }
    },
    {
      "cell_type": "code",
      "execution_count": null,
      "metadata": {
        "id": "tIGZER8tiH6O",
        "colab": {
          "base_uri": "https://localhost:8080/"
        },
        "outputId": "a57fb08d-996f-4e29-cb36-48bf77661484"
      },
      "outputs": [
        {
          "output_type": "stream",
          "name": "stdout",
          "text": [
            "Seja bem vindo ao curso!!\n"
          ]
        }
      ],
      "source": [
        "print('Seja bem vindo ao curso!!')"
      ]
    },
    {
      "cell_type": "markdown",
      "source": [
        "Digite abaixo a função print, para que ela retorne o seu nome.\n",
        "\n",
        "print('Digite seu nome')\n"
      ],
      "metadata": {
        "id": "wXrE6nS-npoD"
      }
    },
    {
      "cell_type": "code",
      "source": [
        "print('Danila')"
      ],
      "metadata": {
        "id": "WBX9uZOOnl-D",
        "colab": {
          "base_uri": "https://localhost:8080/"
        },
        "outputId": "2a971a3f-f7b7-4c8c-a934-c46c66a2d434"
      },
      "execution_count": null,
      "outputs": [
        {
          "output_type": "stream",
          "name": "stdout",
          "text": [
            "Danila\n"
          ]
        }
      ]
    },
    {
      "cell_type": "markdown",
      "source": [
        "Crie um campo de código e imprima seu nome completo."
      ],
      "metadata": {
        "id": "qP1SEODZn-mq"
      }
    },
    {
      "cell_type": "code",
      "source": [
        "print('Danila Afonso Alves')"
      ],
      "metadata": {
        "id": "sBNh9EwblDuQ",
        "colab": {
          "base_uri": "https://localhost:8080/"
        },
        "outputId": "3763147f-be00-4e84-dd57-bf291e033478"
      },
      "execution_count": null,
      "outputs": [
        {
          "output_type": "stream",
          "name": "stdout",
          "text": [
            "Danila Afonso Alves\n"
          ]
        }
      ]
    },
    {
      "cell_type": "markdown",
      "source": [
        "## Operações matemáticas"
      ],
      "metadata": {
        "id": "IYxuRismoSGS"
      }
    },
    {
      "cell_type": "markdown",
      "source": [
        "###Soma"
      ],
      "metadata": {
        "id": "IZ7h242UocsD"
      }
    },
    {
      "cell_type": "markdown",
      "source": [
        "Exemplo 2+2"
      ],
      "metadata": {
        "id": "mTWeNcYbuE0v"
      }
    },
    {
      "cell_type": "code",
      "source": [
        "2+2"
      ],
      "metadata": {
        "id": "qXjuFoi_oe5a",
        "colab": {
          "base_uri": "https://localhost:8080/"
        },
        "outputId": "15e95ba7-abb9-4e4c-fe02-0e7ae39b5ee5"
      },
      "execution_count": null,
      "outputs": [
        {
          "output_type": "execute_result",
          "data": {
            "text/plain": [
              "4"
            ]
          },
          "metadata": {},
          "execution_count": 4
        }
      ]
    },
    {
      "cell_type": "markdown",
      "source": [
        "2+5"
      ],
      "metadata": {
        "id": "DHs1YrHTlL2G"
      }
    },
    {
      "cell_type": "code",
      "source": [
        "2+5"
      ],
      "metadata": {
        "id": "266fiTjJlOYs",
        "colab": {
          "base_uri": "https://localhost:8080/"
        },
        "outputId": "6daefd7c-a7e3-4238-d13c-8ce272670a16"
      },
      "execution_count": null,
      "outputs": [
        {
          "output_type": "execute_result",
          "data": {
            "text/plain": [
              "7"
            ]
          },
          "metadata": {},
          "execution_count": 5
        }
      ]
    },
    {
      "cell_type": "markdown",
      "source": [
        "3+8"
      ],
      "metadata": {
        "id": "Fepx2B8AlPkF"
      }
    },
    {
      "cell_type": "code",
      "source": [
        "3+8"
      ],
      "metadata": {
        "id": "-0bVuDPnlQ3t",
        "colab": {
          "base_uri": "https://localhost:8080/"
        },
        "outputId": "1ca255c9-d351-4bfa-b8f2-dbf5a8e3279d"
      },
      "execution_count": null,
      "outputs": [
        {
          "output_type": "execute_result",
          "data": {
            "text/plain": [
              "11"
            ]
          },
          "metadata": {},
          "execution_count": 6
        }
      ]
    },
    {
      "cell_type": "markdown",
      "source": [
        "###Subtração"
      ],
      "metadata": {
        "id": "uTZGJLtQohoD"
      }
    },
    {
      "cell_type": "code",
      "source": [
        "1"
      ],
      "metadata": {
        "id": "5sm5F9y7ogVE",
        "colab": {
          "base_uri": "https://localhost:8080/"
        },
        "outputId": "07ba8b3b-2125-4402-b7f3-39468f8e75e6"
      },
      "execution_count": null,
      "outputs": [
        {
          "output_type": "execute_result",
          "data": {
            "text/plain": [
              "1"
            ]
          },
          "metadata": {},
          "execution_count": 7
        }
      ]
    },
    {
      "cell_type": "markdown",
      "source": [
        "5-4"
      ],
      "metadata": {
        "id": "Vmjv5fjdlTcH"
      }
    },
    {
      "cell_type": "code",
      "source": [
        "5-4"
      ],
      "metadata": {
        "id": "ZIiw7fyalUv1",
        "colab": {
          "base_uri": "https://localhost:8080/"
        },
        "outputId": "bce01f06-6d20-4221-c534-053f91100c2d"
      },
      "execution_count": null,
      "outputs": [
        {
          "output_type": "execute_result",
          "data": {
            "text/plain": [
              "1"
            ]
          },
          "metadata": {},
          "execution_count": 8
        }
      ]
    },
    {
      "cell_type": "markdown",
      "source": [
        "10-6"
      ],
      "metadata": {
        "id": "_XrrVx-1uQ0L"
      }
    },
    {
      "cell_type": "code",
      "source": [
        "10-6"
      ],
      "metadata": {
        "id": "XbYpg0BaSLSj",
        "colab": {
          "base_uri": "https://localhost:8080/"
        },
        "outputId": "7893c0fb-4326-4891-be88-829b93b1f4de"
      },
      "execution_count": null,
      "outputs": [
        {
          "output_type": "execute_result",
          "data": {
            "text/plain": [
              "4"
            ]
          },
          "metadata": {},
          "execution_count": 9
        }
      ]
    },
    {
      "cell_type": "markdown",
      "source": [
        "###Divisão"
      ],
      "metadata": {
        "id": "hVFeCcGgouT7"
      }
    },
    {
      "cell_type": "markdown",
      "source": [
        "Exemplo 4/2"
      ],
      "metadata": {
        "id": "2he9suaAuYMe"
      }
    },
    {
      "cell_type": "code",
      "source": [
        "4/2"
      ],
      "metadata": {
        "id": "Sf5tk7JSpYbr",
        "colab": {
          "base_uri": "https://localhost:8080/"
        },
        "outputId": "511dea83-8c45-44c3-81cf-40db46946ce9"
      },
      "execution_count": null,
      "outputs": [
        {
          "output_type": "execute_result",
          "data": {
            "text/plain": [
              "2.0"
            ]
          },
          "metadata": {},
          "execution_count": 10
        }
      ]
    },
    {
      "cell_type": "markdown",
      "source": [
        "64/8"
      ],
      "metadata": {
        "id": "XShIsQMXlZYU"
      }
    },
    {
      "cell_type": "code",
      "source": [
        "64/8"
      ],
      "metadata": {
        "id": "iFbCq_G3lbha",
        "colab": {
          "base_uri": "https://localhost:8080/"
        },
        "outputId": "e2cc69a7-fb50-4c46-e05f-93c67e9826e8"
      },
      "execution_count": null,
      "outputs": [
        {
          "output_type": "execute_result",
          "data": {
            "text/plain": [
              "8.0"
            ]
          },
          "metadata": {},
          "execution_count": 11
        }
      ]
    },
    {
      "cell_type": "markdown",
      "source": [
        "115/18"
      ],
      "metadata": {
        "id": "jdU6K1g7lb2D"
      }
    },
    {
      "cell_type": "code",
      "source": [
        "115/18"
      ],
      "metadata": {
        "id": "Lt9_x7k2lhjo",
        "colab": {
          "base_uri": "https://localhost:8080/"
        },
        "outputId": "c03b2df2-6cdc-4300-ab7e-79fb9a26f0a1"
      },
      "execution_count": null,
      "outputs": [
        {
          "output_type": "execute_result",
          "data": {
            "text/plain": [
              "6.388888888888889"
            ]
          },
          "metadata": {},
          "execution_count": 12
        }
      ]
    },
    {
      "cell_type": "markdown",
      "source": [
        "###Multiplicação"
      ],
      "metadata": {
        "id": "ZvItkY2Xo7br"
      }
    },
    {
      "cell_type": "code",
      "source": [
        "3*3"
      ],
      "metadata": {
        "id": "E1rO6xo8pZB7",
        "colab": {
          "base_uri": "https://localhost:8080/"
        },
        "outputId": "8b71aaba-7cc6-4c7e-add9-f971acf34bc7"
      },
      "execution_count": null,
      "outputs": [
        {
          "output_type": "execute_result",
          "data": {
            "text/plain": [
              "9"
            ]
          },
          "metadata": {},
          "execution_count": 13
        }
      ]
    },
    {
      "cell_type": "markdown",
      "source": [
        "165879 * 154856"
      ],
      "metadata": {
        "id": "i3SXXdw_mlyY"
      }
    },
    {
      "cell_type": "code",
      "source": [
        "165879*154856"
      ],
      "metadata": {
        "id": "qpvwMl6Vmsda",
        "colab": {
          "base_uri": "https://localhost:8080/"
        },
        "outputId": "d2d1f2b7-9bed-4f3c-c9be-92c1b9a79c17"
      },
      "execution_count": null,
      "outputs": [
        {
          "output_type": "execute_result",
          "data": {
            "text/plain": [
              "25687358424"
            ]
          },
          "metadata": {},
          "execution_count": 14
        }
      ]
    },
    {
      "cell_type": "markdown",
      "source": [
        "26234548 * 48475956"
      ],
      "metadata": {
        "id": "cpoRW9Ptms4A"
      }
    },
    {
      "cell_type": "code",
      "source": [
        "26234548*48475956"
      ],
      "metadata": {
        "id": "ZKWo-4E5mwLb",
        "colab": {
          "base_uri": "https://localhost:8080/"
        },
        "outputId": "662deeb6-836b-4c37-807c-4fb05278f911"
      },
      "execution_count": null,
      "outputs": [
        {
          "output_type": "execute_result",
          "data": {
            "text/plain": [
              "1271744794527888"
            ]
          },
          "metadata": {},
          "execution_count": 15
        }
      ]
    },
    {
      "cell_type": "markdown",
      "source": [
        "###Exponenciação"
      ],
      "metadata": {
        "id": "WLteatAAo9MT"
      }
    },
    {
      "cell_type": "markdown",
      "source": [
        "Exemplo 3^2"
      ],
      "metadata": {
        "id": "vztlovbSurXV"
      }
    },
    {
      "cell_type": "code",
      "source": [
        "3**2"
      ],
      "metadata": {
        "id": "uzqVY4vrpZ2r",
        "colab": {
          "base_uri": "https://localhost:8080/"
        },
        "outputId": "83f6f8ba-cc94-4822-a4f5-b81333aceb33"
      },
      "execution_count": null,
      "outputs": [
        {
          "output_type": "execute_result",
          "data": {
            "text/plain": [
              "9"
            ]
          },
          "metadata": {},
          "execution_count": 16
        }
      ]
    },
    {
      "cell_type": "markdown",
      "source": [
        "5^3"
      ],
      "metadata": {
        "id": "RIlNS1cmmyHm"
      }
    },
    {
      "cell_type": "code",
      "source": [
        "5^3"
      ],
      "metadata": {
        "id": "oMri3Hptm2M-",
        "colab": {
          "base_uri": "https://localhost:8080/"
        },
        "outputId": "7ed2f93d-2421-4f71-bc0c-6171054bc41d"
      },
      "execution_count": null,
      "outputs": [
        {
          "output_type": "execute_result",
          "data": {
            "text/plain": [
              "6"
            ]
          },
          "metadata": {},
          "execution_count": 17
        }
      ]
    },
    {
      "cell_type": "markdown",
      "source": [
        "###Resto da Divisão"
      ],
      "metadata": {
        "id": "Zb4kTtG6pEhD"
      }
    },
    {
      "cell_type": "markdown",
      "source": [
        "Resto de uma divisão"
      ],
      "metadata": {
        "id": "ApylzEb5uvTN"
      }
    },
    {
      "cell_type": "code",
      "source": [
        "16 % 5"
      ],
      "metadata": {
        "id": "dmBlhATVpaWL",
        "colab": {
          "base_uri": "https://localhost:8080/"
        },
        "outputId": "690d1a58-ab59-41b2-892c-3dd22966a1ba"
      },
      "execution_count": null,
      "outputs": [
        {
          "output_type": "execute_result",
          "data": {
            "text/plain": [
              "1"
            ]
          },
          "metadata": {},
          "execution_count": 18
        }
      ]
    },
    {
      "cell_type": "markdown",
      "source": [
        "9 / 6"
      ],
      "metadata": {
        "id": "CB8iqYITnERA"
      }
    },
    {
      "cell_type": "code",
      "source": [
        "9/6"
      ],
      "metadata": {
        "id": "zGRXKjfKnEw0",
        "colab": {
          "base_uri": "https://localhost:8080/"
        },
        "outputId": "6b44a339-c075-49d0-a1c9-02a89c5cd8c8"
      },
      "execution_count": null,
      "outputs": [
        {
          "output_type": "execute_result",
          "data": {
            "text/plain": [
              "1.5"
            ]
          },
          "metadata": {},
          "execution_count": 19
        }
      ]
    },
    {
      "cell_type": "markdown",
      "source": [
        "32/5"
      ],
      "metadata": {
        "id": "qgGWxyGErZYj"
      }
    },
    {
      "cell_type": "code",
      "source": [
        "32/5"
      ],
      "metadata": {
        "id": "daUg2Fv2nFJ5",
        "colab": {
          "base_uri": "https://localhost:8080/"
        },
        "outputId": "5e45c1f6-74fb-489b-f670-73452960efe6"
      },
      "execution_count": null,
      "outputs": [
        {
          "output_type": "execute_result",
          "data": {
            "text/plain": [
              "6.4"
            ]
          },
          "metadata": {},
          "execution_count": 20
        }
      ]
    },
    {
      "cell_type": "markdown",
      "source": [],
      "metadata": {
        "id": "OywDH_zzslKj"
      }
    },
    {
      "cell_type": "markdown",
      "source": [
        "###Raiz Quadrada"
      ],
      "metadata": {
        "id": "QyWt29f6pGFb"
      }
    },
    {
      "cell_type": "markdown",
      "source": [
        "Raiz de 4"
      ],
      "metadata": {
        "id": "QBNJpvtuu3xG"
      }
    },
    {
      "cell_type": "code",
      "source": [
        "4 ** (1/2)"
      ],
      "metadata": {
        "id": "VS8XPyiKph5D",
        "colab": {
          "base_uri": "https://localhost:8080/"
        },
        "outputId": "1571b3f6-506c-459c-920b-7f2525201046"
      },
      "execution_count": null,
      "outputs": [
        {
          "output_type": "execute_result",
          "data": {
            "text/plain": [
              "2.0"
            ]
          },
          "metadata": {},
          "execution_count": 21
        }
      ]
    },
    {
      "cell_type": "markdown",
      "source": [
        "Raiz de 6"
      ],
      "metadata": {
        "id": "SFUaz67hnMCH"
      }
    },
    {
      "cell_type": "code",
      "source": [],
      "metadata": {
        "id": "dBrUf-GunO-I"
      },
      "execution_count": null,
      "outputs": []
    },
    {
      "cell_type": "markdown",
      "source": [
        "raiz de 49"
      ],
      "metadata": {
        "id": "64cXxVZLnPT2"
      }
    },
    {
      "cell_type": "code",
      "source": [],
      "metadata": {
        "id": "Uf_YqVKhnSZF"
      },
      "execution_count": null,
      "outputs": []
    },
    {
      "cell_type": "markdown",
      "source": [
        "###Raiz Quadrada com biblioteca"
      ],
      "metadata": {
        "id": "qBcuYHRBped6"
      }
    },
    {
      "cell_type": "code",
      "source": [
        "import math as m\n",
        "m.sqrt(4)"
      ],
      "metadata": {
        "id": "wDUsh9t2phY7",
        "colab": {
          "base_uri": "https://localhost:8080/"
        },
        "outputId": "cd42cbec-360d-4692-bcf4-7c9cffd5108b"
      },
      "execution_count": null,
      "outputs": [
        {
          "output_type": "execute_result",
          "data": {
            "text/plain": [
              "2.0"
            ]
          },
          "metadata": {},
          "execution_count": 22
        }
      ]
    },
    {
      "cell_type": "markdown",
      "source": [
        "Raiz quadrada de 64"
      ],
      "metadata": {
        "id": "bbvi5XQ0pBgs"
      }
    },
    {
      "cell_type": "code",
      "source": [
        "m.sqrt(64)"
      ],
      "metadata": {
        "id": "b6hfTLCZpE5Y",
        "colab": {
          "base_uri": "https://localhost:8080/"
        },
        "outputId": "a702f909-9e14-4270-cdfb-c5a8ba03c6f0"
      },
      "execution_count": null,
      "outputs": [
        {
          "output_type": "execute_result",
          "data": {
            "text/plain": [
              "8.0"
            ]
          },
          "metadata": {},
          "execution_count": 23
        }
      ]
    },
    {
      "cell_type": "markdown",
      "source": [
        "Para mais informações a reapeito da biblioteca math, segue o link para a documentação da biblioteca.\n",
        "\n",
        "https://docs.python.org/pt-br/3/library/math.html"
      ],
      "metadata": {
        "id": "zdUxkc8ykxSD"
      }
    },
    {
      "cell_type": "markdown",
      "source": [
        "### Exemplo de aplicação"
      ],
      "metadata": {
        "id": "yS0BMZ4tu2Wi"
      }
    },
    {
      "cell_type": "code",
      "source": [
        "import math as m\n",
        "num = float(input(\"Entre com um número:\\n\"))\n",
        "raiz = m.sqrt(num)\n",
        "print(f'\\nA raiz quadrada de {num} é {raiz}\\n')"
      ],
      "metadata": {
        "id": "gl0_uBw4vHi9",
        "colab": {
          "base_uri": "https://localhost:8080/"
        },
        "outputId": "d31e0ebe-d0ea-4349-f630-ed7742306212"
      },
      "execution_count": null,
      "outputs": [
        {
          "output_type": "stream",
          "name": "stdout",
          "text": [
            "Entre com um número:\n",
            "7\n",
            "\n",
            "A raiz quadrada de 7.0 é 2.6457513110645907\n",
            "\n"
          ]
        }
      ]
    },
    {
      "cell_type": "markdown",
      "source": [
        "## Variáveis e Type"
      ],
      "metadata": {
        "id": "0wObrDCYpU8T"
      }
    },
    {
      "cell_type": "markdown",
      "source": [
        "Variaveis são uma forma de armazenar informações para usa-las dentro e outras funções, segue os exemplos:"
      ],
      "metadata": {
        "id": "mkSYbOOiRYSI"
      }
    },
    {
      "cell_type": "markdown",
      "source": [
        "Variaveis do tipo int - Números inteiros"
      ],
      "metadata": {
        "id": "IBgXMM8IRkP2"
      }
    },
    {
      "cell_type": "code",
      "source": [
        "idade = 18"
      ],
      "metadata": {
        "id": "G4Ei9lrDtT0f"
      },
      "execution_count": null,
      "outputs": []
    },
    {
      "cell_type": "code",
      "source": [
        "idade"
      ],
      "metadata": {
        "id": "wGRxYPUHtXUI",
        "colab": {
          "base_uri": "https://localhost:8080/"
        },
        "outputId": "045e6372-08a8-4751-e951-2a6354914378"
      },
      "execution_count": null,
      "outputs": [
        {
          "output_type": "execute_result",
          "data": {
            "text/plain": [
              "18"
            ]
          },
          "metadata": {},
          "execution_count": 39
        }
      ]
    },
    {
      "cell_type": "code",
      "source": [
        "print(idade)"
      ],
      "metadata": {
        "id": "VHrbX0keYC-O",
        "colab": {
          "base_uri": "https://localhost:8080/"
        },
        "outputId": "90cf45cc-70b1-4423-8e0a-864f108d25bc"
      },
      "execution_count": null,
      "outputs": [
        {
          "output_type": "stream",
          "name": "stdout",
          "text": [
            "18\n"
          ]
        }
      ]
    },
    {
      "cell_type": "code",
      "source": [
        "\n",
        "type(idade)"
      ],
      "metadata": {
        "id": "UFlEPD4dYEIf",
        "colab": {
          "base_uri": "https://localhost:8080/"
        },
        "outputId": "5a2ab981-f274-4a5d-f0fa-41658c48cecc"
      },
      "execution_count": null,
      "outputs": [
        {
          "output_type": "execute_result",
          "data": {
            "text/plain": [
              "int"
            ]
          },
          "metadata": {},
          "execution_count": 41
        }
      ]
    },
    {
      "cell_type": "markdown",
      "source": [
        "Variaveis do tipo float - Números decimais"
      ],
      "metadata": {
        "id": "thS0-dWcSNd2"
      }
    },
    {
      "cell_type": "code",
      "source": [
        "altura = 1.70"
      ],
      "metadata": {
        "id": "H6AYHvJktgjj"
      },
      "execution_count": null,
      "outputs": []
    },
    {
      "cell_type": "code",
      "source": [
        "altura"
      ],
      "metadata": {
        "id": "vZRCfpWktsuW",
        "colab": {
          "base_uri": "https://localhost:8080/"
        },
        "outputId": "aab2fc66-5d89-40f4-8b9d-4b218ea9a2f2"
      },
      "execution_count": null,
      "outputs": [
        {
          "output_type": "execute_result",
          "data": {
            "text/plain": [
              "1.7"
            ]
          },
          "metadata": {},
          "execution_count": 43
        }
      ]
    },
    {
      "cell_type": "code",
      "source": [
        "type(altura)"
      ],
      "metadata": {
        "id": "m5Zzgt3QttB1",
        "colab": {
          "base_uri": "https://localhost:8080/"
        },
        "outputId": "9cd33163-9af1-4ef0-84a9-59954d9438f7"
      },
      "execution_count": null,
      "outputs": [
        {
          "output_type": "execute_result",
          "data": {
            "text/plain": [
              "float"
            ]
          },
          "metadata": {},
          "execution_count": 44
        }
      ]
    },
    {
      "cell_type": "markdown",
      "source": [
        "Variaveis do tipo string - Palavras, frases ou textos"
      ],
      "metadata": {
        "id": "ZE31RgkrSyaY"
      }
    },
    {
      "cell_type": "code",
      "source": [
        "nome = \"\""
      ],
      "metadata": {
        "id": "7x1COoLVS4_1"
      },
      "execution_count": null,
      "outputs": []
    },
    {
      "cell_type": "code",
      "source": [
        "nome"
      ],
      "metadata": {
        "id": "_qawj6xrtt_n",
        "colab": {
          "base_uri": "https://localhost:8080/"
        },
        "outputId": "5f2311d8-5f31-4a56-caf7-8e844246879f"
      },
      "execution_count": null,
      "outputs": [
        {
          "output_type": "execute_result",
          "data": {
            "text/plain": [
              "''"
            ],
            "application/vnd.google.colaboratory.intrinsic+json": {
              "type": "string"
            }
          },
          "metadata": {},
          "execution_count": 46
        }
      ]
    },
    {
      "cell_type": "code",
      "source": [
        "type(nome)"
      ],
      "metadata": {
        "id": "47bhQg08tuRU",
        "colab": {
          "base_uri": "https://localhost:8080/"
        },
        "outputId": "42275d99-bcba-481e-b1af-6a5cd4d93bb5"
      },
      "execution_count": null,
      "outputs": [
        {
          "output_type": "execute_result",
          "data": {
            "text/plain": [
              "str"
            ]
          },
          "metadata": {},
          "execution_count": 47
        }
      ]
    },
    {
      "cell_type": "markdown",
      "source": [
        "Variaveis do tipo Boleano - True ou False"
      ],
      "metadata": {
        "id": "oUkYpm6BTLmt"
      }
    },
    {
      "cell_type": "code",
      "source": [
        "aprovado = True"
      ],
      "metadata": {
        "id": "FzPX6bKgTTI5"
      },
      "execution_count": null,
      "outputs": []
    },
    {
      "cell_type": "code",
      "source": [
        "aprovado"
      ],
      "metadata": {
        "id": "qjxvPdgZtxKY",
        "colab": {
          "base_uri": "https://localhost:8080/"
        },
        "outputId": "ee23adab-e974-4340-88e2-492fc96809e2"
      },
      "execution_count": null,
      "outputs": [
        {
          "output_type": "execute_result",
          "data": {
            "text/plain": [
              "True"
            ]
          },
          "metadata": {},
          "execution_count": 49
        }
      ]
    },
    {
      "cell_type": "code",
      "source": [
        "type(aprovado)"
      ],
      "metadata": {
        "id": "MstgL2qJtxcU",
        "colab": {
          "base_uri": "https://localhost:8080/"
        },
        "outputId": "da9c6803-4817-4742-e5cb-ec9d6aa8baaf"
      },
      "execution_count": null,
      "outputs": [
        {
          "output_type": "execute_result",
          "data": {
            "text/plain": [
              "bool"
            ]
          },
          "metadata": {},
          "execution_count": 50
        }
      ]
    },
    {
      "cell_type": "markdown",
      "source": [
        "## Função Input"
      ],
      "metadata": {
        "id": "_i48kgnNVcDO"
      }
    },
    {
      "cell_type": "markdown",
      "source": [
        "A função input é usada para coletar informações dos usuarios, para que possamos salver em variaveis e depois manipular.  "
      ],
      "metadata": {
        "id": "iAb8dDjjVkgV"
      }
    },
    {
      "cell_type": "markdown",
      "source": [
        "comando <font color=blue> input()"
      ],
      "metadata": {
        "id": "mAYBZhxoV4Zd"
      }
    },
    {
      "cell_type": "markdown",
      "source": [
        "Coletando informação de nome."
      ],
      "metadata": {
        "id": "vY5V8-fJXY9-"
      }
    },
    {
      "cell_type": "code",
      "source": [
        "  nome = input('Escreva seu primeiro nome:')"
      ],
      "metadata": {
        "id": "QxSW-9GaVi12",
        "colab": {
          "base_uri": "https://localhost:8080/"
        },
        "outputId": "69ea22c2-5a87-4210-cb04-84bde2cdbd74"
      },
      "execution_count": null,
      "outputs": [
        {
          "name": "stdout",
          "output_type": "stream",
          "text": [
            "Escreva seu primeiro nome:João\n"
          ]
        }
      ]
    },
    {
      "cell_type": "code",
      "source": [
        "nome"
      ],
      "metadata": {
        "id": "BcX-Yz-XXtZm",
        "colab": {
          "base_uri": "https://localhost:8080/",
          "height": 36
        },
        "outputId": "d652d92d-ca73-4b57-ae55-8384e6bbe92f"
      },
      "execution_count": null,
      "outputs": [
        {
          "output_type": "execute_result",
          "data": {
            "text/plain": [
              "'João'"
            ],
            "application/vnd.google.colaboratory.intrinsic+json": {
              "type": "string"
            }
          },
          "metadata": {},
          "execution_count": 52
        }
      ]
    },
    {
      "cell_type": "markdown",
      "source": [
        "Use o comando input para coletar o ano de nascimento do usuario e armazenar como variavel ano_de_nascimento"
      ],
      "metadata": {
        "id": "AiaFKo0jX-19"
      }
    },
    {
      "cell_type": "code",
      "source": [
        "ano_de_nascimento = input('Digite aqui seu ano de nascimento: ')"
      ],
      "metadata": {
        "id": "MRaZK8JeYDtc",
        "colab": {
          "base_uri": "https://localhost:8080/"
        },
        "outputId": "6f7bebc0-3730-4fc2-daaf-b7176f3e8c76"
      },
      "execution_count": null,
      "outputs": [
        {
          "name": "stdout",
          "output_type": "stream",
          "text": [
            "Digite aqui seu ano de nascimento: 1990\n"
          ]
        }
      ]
    },
    {
      "cell_type": "code",
      "source": [
        "ano_de_nascimento"
      ],
      "metadata": {
        "id": "awvVcws8YbuK",
        "colab": {
          "base_uri": "https://localhost:8080/",
          "height": 36
        },
        "outputId": "d1520d9e-1cf9-44b9-81b0-53dbe9a2c965"
      },
      "execution_count": null,
      "outputs": [
        {
          "output_type": "execute_result",
          "data": {
            "text/plain": [
              "'1990'"
            ],
            "application/vnd.google.colaboratory.intrinsic+json": {
              "type": "string"
            }
          },
          "metadata": {},
          "execution_count": 54
        }
      ]
    },
    {
      "cell_type": "code",
      "source": [
        "type(ano_de_nascimento)"
      ],
      "metadata": {
        "id": "IxvAUVgMYiWm",
        "colab": {
          "base_uri": "https://localhost:8080/"
        },
        "outputId": "d81d19d0-c253-43f5-acb8-5f9f12a7abb0"
      },
      "execution_count": null,
      "outputs": [
        {
          "output_type": "execute_result",
          "data": {
            "text/plain": [
              "str"
            ]
          },
          "metadata": {},
          "execution_count": 55
        }
      ]
    },
    {
      "cell_type": "markdown",
      "source": [
        "Converter de String para Int"
      ],
      "metadata": {
        "id": "hgF5UnPxY8Wv"
      }
    },
    {
      "cell_type": "code",
      "source": [
        "ano = int(input('Digite aqui seu ano de nascimento: '))"
      ],
      "metadata": {
        "id": "fgy3ldcmaIEZ",
        "colab": {
          "base_uri": "https://localhost:8080/"
        },
        "outputId": "b6773649-e841-4c37-cd39-b78bc92f0ab2"
      },
      "execution_count": null,
      "outputs": [
        {
          "name": "stdout",
          "output_type": "stream",
          "text": [
            "Digite aqui seu ano de nascimento: 1990\n"
          ]
        }
      ]
    },
    {
      "cell_type": "code",
      "source": [
        "type(ano_de_nascimento)"
      ],
      "metadata": {
        "id": "ZU9BSqiLaTl5",
        "colab": {
          "base_uri": "https://localhost:8080/"
        },
        "outputId": "905bae76-b205-44b7-89a1-a55a0d30b64b"
      },
      "execution_count": null,
      "outputs": [
        {
          "output_type": "execute_result",
          "data": {
            "text/plain": [
              "int"
            ]
          },
          "metadata": {},
          "execution_count": 64
        }
      ]
    },
    {
      "cell_type": "code",
      "source": [
        "mes = int(input('Qual seu mês de nascimento? '))"
      ],
      "metadata": {
        "colab": {
          "base_uri": "https://localhost:8080/"
        },
        "id": "6s7ymGKdgqCD",
        "outputId": "fd5dd3a2-14b0-444f-a39b-ef168c63939e"
      },
      "execution_count": null,
      "outputs": [
        {
          "name": "stdout",
          "output_type": "stream",
          "text": [
            "Qual seu mês de nascimento? 01\n"
          ]
        }
      ]
    },
    {
      "cell_type": "code",
      "source": [
        "dia = int(input('Qual seu dia de nascimento? '))"
      ],
      "metadata": {
        "id": "EJvSrPuEa-lW",
        "colab": {
          "base_uri": "https://localhost:8080/"
        },
        "outputId": "65c50926-404c-409e-8c55-1f5044e94e8a"
      },
      "execution_count": null,
      "outputs": [
        {
          "name": "stdout",
          "output_type": "stream",
          "text": [
            "Qual seu dia de nascimento? 28\n"
          ]
        }
      ]
    },
    {
      "cell_type": "code",
      "source": [
        "print(f'Ano de Nascimento: {ano}')\n",
        "print(f'Mês de Nascimento: {mes}')\n",
        "print(f'Dia de Nascimento:  {dia}')"
      ],
      "metadata": {
        "id": "WCZEvIZ8vh2R",
        "colab": {
          "base_uri": "https://localhost:8080/"
        },
        "outputId": "043e2385-3d27-4920-e6c0-063e3f720616"
      },
      "execution_count": null,
      "outputs": [
        {
          "output_type": "stream",
          "name": "stdout",
          "text": [
            "Ano de Nascimento: 1990\n",
            "Mês de Nascimento: 1\n",
            "Dia de Nascimento:  28\n"
          ]
        }
      ]
    },
    {
      "cell_type": "code",
      "source": [
        "print(f'Data de nascimento: {dia} / {mes} / {ano}')"
      ],
      "metadata": {
        "id": "nCo5enG9bar2",
        "colab": {
          "base_uri": "https://localhost:8080/"
        },
        "outputId": "c3656a68-c2ec-40c2-8cb2-408fc1b0d901"
      },
      "execution_count": null,
      "outputs": [
        {
          "output_type": "stream",
          "name": "stdout",
          "text": [
            "Data de nascimento: 28 / 1 / 1990\n"
          ]
        }
      ]
    },
    {
      "cell_type": "markdown",
      "source": [
        "## Exemplos"
      ],
      "metadata": {
        "id": "eB995qA7do2c"
      }
    },
    {
      "cell_type": "markdown",
      "source": [
        "1) Instruções para coletar dois números e informar o resultado da soma."
      ],
      "metadata": {
        "id": "aejMaJvwdug7"
      }
    },
    {
      "cell_type": "code",
      "source": [
        "lonumero1 = int(input('Qual é o valor do primeiro número? '))"
      ],
      "metadata": {
        "id": "TlMkarzAd6GJ",
        "colab": {
          "base_uri": "https://localhost:8080/"
        },
        "outputId": "d283ed56-8001-4e60-a60c-e6db34c1de05"
      },
      "execution_count": null,
      "outputs": [
        {
          "name": "stdout",
          "output_type": "stream",
          "text": [
            "Qual é o valor do primeiro número? 10\n"
          ]
        }
      ]
    },
    {
      "cell_type": "code",
      "source": [
        "numero2 = int(input('Qual é o valor do segundo número? '))"
      ],
      "metadata": {
        "id": "1iBv85sLesUM",
        "colab": {
          "base_uri": "https://localhost:8080/"
        },
        "outputId": "c32f9794-a39e-4d73-8d12-6d7244976dba"
      },
      "execution_count": null,
      "outputs": [
        {
          "name": "stdout",
          "output_type": "stream",
          "text": [
            "Qual é o valor do segundo número? 7\n"
          ]
        }
      ]
    },
    {
      "cell_type": "code",
      "source": [
        "resultado = numero1 + numero2"
      ],
      "metadata": {
        "id": "XQ3eQdQ1eYq8"
      },
      "execution_count": null,
      "outputs": []
    },
    {
      "cell_type": "code",
      "source": [
        "print(f'O resultado da soma é: {resultado}')"
      ],
      "metadata": {
        "id": "5bVuePz3eROJ",
        "colab": {
          "base_uri": "https://localhost:8080/"
        },
        "outputId": "33ef2e4d-872b-482a-cc3e-eeb72498bfa7"
      },
      "execution_count": null,
      "outputs": [
        {
          "output_type": "stream",
          "name": "stdout",
          "text": [
            "O resultado da soma é: 17\n"
          ]
        }
      ]
    },
    {
      "cell_type": "markdown",
      "source": [
        "2) Tirar a média de 3 notas de prova"
      ],
      "metadata": {
        "id": "GNwEn82Chon2"
      }
    },
    {
      "cell_type": "code",
      "source": [
        "n1 = float(input('Valor da nota 1: '))\n",
        "n2 = float(input('Valor da nota 2: '))\n",
        "n3 = float(input('Valor da nota 3: '))"
      ],
      "metadata": {
        "id": "iYMlsjV_vpHD",
        "colab": {
          "base_uri": "https://localhost:8080/"
        },
        "outputId": "6c1b513a-5cbd-4a96-f1c4-3312c99e6105"
      },
      "execution_count": null,
      "outputs": [
        {
          "name": "stdout",
          "output_type": "stream",
          "text": [
            "Valor da nota 1: 9\n",
            "Valor da nota 2: 8\n",
            "Valor da nota 3: 5\n"
          ]
        }
      ]
    },
    {
      "cell_type": "code",
      "source": [
        "media_das_notas = (n1 + n2 + n3)/3"
      ],
      "metadata": {
        "id": "4g-7Xr9NixlK"
      },
      "execution_count": null,
      "outputs": []
    },
    {
      "cell_type": "code",
      "source": [
        "media_das_notas"
      ],
      "metadata": {
        "id": "2EollmOintXm",
        "colab": {
          "base_uri": "https://localhost:8080/"
        },
        "outputId": "424d51a6-e40e-4b25-8ca2-089da085858f"
      },
      "execution_count": null,
      "outputs": [
        {
          "output_type": "execute_result",
          "data": {
            "text/plain": [
              "7.333333333333333"
            ]
          },
          "metadata": {},
          "execution_count": 79
        }
      ]
    },
    {
      "cell_type": "code",
      "source": [
        "n1 = float(input('Valor da nota 1: '))\n",
        "n2 = float(input('Valor da nota 2: '))\n",
        "n3 = float(input('Valor da nota 3: '))\n",
        "\n",
        "media_das_notas = (n1 + n2 + n3)/3\n",
        "\n",
        "media_das_notas"
      ],
      "metadata": {
        "id": "Y5IlnquZvsFT",
        "colab": {
          "base_uri": "https://localhost:8080/"
        },
        "outputId": "d2528ca2-b706-4d7d-ea99-002411f5c268"
      },
      "execution_count": null,
      "outputs": [
        {
          "name": "stdout",
          "output_type": "stream",
          "text": [
            "Valor da nota 1: 10\n",
            "Valor da nota 2: 8\n",
            "Valor da nota 3: 3\n"
          ]
        },
        {
          "output_type": "execute_result",
          "data": {
            "text/plain": [
              "7.0"
            ]
          },
          "metadata": {},
          "execution_count": 80
        }
      ]
    },
    {
      "cell_type": "code",
      "source": [
        "import statistics as sta\n",
        "sta.mean([n1, n2, n3])"
      ],
      "metadata": {
        "id": "RxEyES3zn9To",
        "colab": {
          "base_uri": "https://localhost:8080/"
        },
        "outputId": "17ead669-f73a-40c0-a012-122f3879c359"
      },
      "execution_count": null,
      "outputs": [
        {
          "output_type": "execute_result",
          "data": {
            "text/plain": [
              "7.0"
            ]
          },
          "metadata": {},
          "execution_count": 81
        }
      ]
    },
    {
      "cell_type": "markdown",
      "source": [
        "https://docs.python.org/pt-br/3/library/statistics.html"
      ],
      "metadata": {
        "id": "I0N2pg0Yq9JW"
      }
    },
    {
      "cell_type": "markdown",
      "source": [
        "3) Nota máxima."
      ],
      "metadata": {
        "id": "UZi-sqdUqAhl"
      }
    },
    {
      "cell_type": "code",
      "source": [
        "max(n1, n2,n3)"
      ],
      "metadata": {
        "id": "g9vKPoCenzYo",
        "colab": {
          "base_uri": "https://localhost:8080/"
        },
        "outputId": "73aa021f-59b1-4a4c-9a6f-04e9c11b1408"
      },
      "execution_count": null,
      "outputs": [
        {
          "output_type": "execute_result",
          "data": {
            "text/plain": [
              "10.0"
            ]
          },
          "metadata": {},
          "execution_count": 82
        }
      ]
    },
    {
      "cell_type": "markdown",
      "source": [
        "4) Nota mínima"
      ],
      "metadata": {
        "id": "iZXtuZmpqU9k"
      }
    },
    {
      "cell_type": "code",
      "source": [
        "min(n1, n2,n3)"
      ],
      "metadata": {
        "id": "jKH6xCNwqYtU",
        "colab": {
          "base_uri": "https://localhost:8080/"
        },
        "outputId": "cd96c04a-12fa-4917-a2da-f032f6773903"
      },
      "execution_count": null,
      "outputs": [
        {
          "output_type": "execute_result",
          "data": {
            "text/plain": [
              "3.0"
            ]
          },
          "metadata": {},
          "execution_count": 83
        }
      ]
    },
    {
      "cell_type": "markdown",
      "source": [
        "5) Cálculos trigonométricos"
      ],
      "metadata": {
        "id": "GVgmC5p5ptpc"
      }
    },
    {
      "cell_type": "code",
      "source": [
        "import math as m\n",
        "ang = 30\n",
        "rad = m.radians(ang)"
      ],
      "metadata": {
        "id": "SVIAMbRTf4Gs"
      },
      "execution_count": null,
      "outputs": []
    },
    {
      "cell_type": "code",
      "source": [
        "\n",
        "sen = m.sin(rad)\n",
        "cos = m.cos(rad)\n",
        "tg = m.tan(rad)"
      ],
      "metadata": {
        "id": "cRTbQWmKfuI1"
      },
      "execution_count": null,
      "outputs": []
    },
    {
      "cell_type": "code",
      "source": [
        "print(sen)\n",
        "print(cos)\n",
        "print(tg)"
      ],
      "metadata": {
        "id": "kQBHJ9Ncvv7b",
        "colab": {
          "base_uri": "https://localhost:8080/"
        },
        "outputId": "0ecbc688-46de-404d-ac6b-94cbfae9d2fc"
      },
      "execution_count": null,
      "outputs": [
        {
          "output_type": "stream",
          "name": "stdout",
          "text": [
            "0.49999999999999994\n",
            "0.8660254037844387\n",
            "0.5773502691896257\n"
          ]
        }
      ]
    },
    {
      "cell_type": "markdown",
      "source": [
        "https://docs.python.org/pt-br/3/library/math.html"
      ],
      "metadata": {
        "id": "NnFa_kW8rKjU"
      }
    },
    {
      "cell_type": "code",
      "source": [],
      "metadata": {
        "id": "PN8zV1xKSRTJ"
      },
      "execution_count": null,
      "outputs": []
    },
    {
      "cell_type": "markdown",
      "source": [
        "# Exercícios"
      ],
      "metadata": {
        "id": "W0yn0H5HUaRe"
      }
    },
    {
      "cell_type": "markdown",
      "source": [
        "1) Criar uma solução que colete o nome do aluno, ano de nascimento e as 4 notas do semestre. ela deve devolver o nome do aluno, sua média, a nota mais alta, e a nota mais baixa.\n",
        "\n",
        "![image.png](data:image/png;base64,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)\n"
      ],
      "metadata": {
        "id": "1np_euvjwoW0"
      }
    },
    {
      "cell_type": "code",
      "source": [
        "nome = input('Digite seu nome: ')\n",
        "ano_de_nascimento = input('Digite aqui seu ano de nascimento: ')\n",
        "n1 = float(input('Nota 1 do semestre: '))\n",
        "n2 = float(input('Nota 2 do semestre: '))\n",
        "n3 = float(input('Nota 3 do semestre: '))\n",
        "n4 = float(input('Nota 4 do semestre: '))"
      ],
      "metadata": {
        "colab": {
          "base_uri": "https://localhost:8080/"
        },
        "id": "vYtuP-FIRsxf",
        "outputId": "ae2453a7-4ee5-4d9a-e06f-83da31fbb17b"
      },
      "execution_count": 2,
      "outputs": [
        {
          "name": "stdout",
          "output_type": "stream",
          "text": [
            "Digite seu nome: Danila\n",
            "Digite aqui seu ano de nascimento: 1990\n",
            "Nota 1 do semestre: 10\n",
            "Nota 2 do semestre: 9\n",
            "Nota 3 do semestre: 8\n",
            "Nota 4 do semestre: 7\n"
          ]
        }
      ]
    },
    {
      "cell_type": "code",
      "source": [
        "maxima = max(n1, n2, n3,n4)\n",
        "print(maxima)"
      ],
      "metadata": {
        "id": "x73WvHOrwAi6",
        "colab": {
          "base_uri": "https://localhost:8080/"
        },
        "outputId": "1b1d4596-798d-45d8-8365-a53178b6226c"
      },
      "execution_count": 3,
      "outputs": [
        {
          "output_type": "stream",
          "name": "stdout",
          "text": [
            "10.0\n"
          ]
        }
      ]
    },
    {
      "cell_type": "code",
      "source": [
        "minima = min(n1, n2, n3,n4)\n",
        "print(minima)"
      ],
      "metadata": {
        "id": "1uJpJeLgo6b8",
        "colab": {
          "base_uri": "https://localhost:8080/"
        },
        "outputId": "1def3caf-3876-4939-f7af-f261f455cb06"
      },
      "execution_count": 4,
      "outputs": [
        {
          "output_type": "stream",
          "name": "stdout",
          "text": [
            "7.0\n"
          ]
        }
      ]
    },
    {
      "cell_type": "code",
      "source": [
        "media_das_notas = (n1 + n2 + n3 + n4)/4\n",
        "media_das_notas\n"
      ],
      "metadata": {
        "id": "pPXXuxm5o_yR",
        "colab": {
          "base_uri": "https://localhost:8080/"
        },
        "outputId": "4a1717dd-6e8d-45c3-c68c-ee94fed109a2"
      },
      "execution_count": 5,
      "outputs": [
        {
          "output_type": "execute_result",
          "data": {
            "text/plain": [
              "8.5"
            ]
          },
          "metadata": {},
          "execution_count": 5
        }
      ]
    },
    {
      "cell_type": "code",
      "source": [
        "print(f'Nome: {nome}')\n",
        "print(f'Ano: {ano_de_nascimento}')\n",
        "print(f'Nota mais alta: {maxima}')\n",
        "print(f'Nota mais baixa: {minima}')\n",
        "print(f'Média: {media_das_notas}')"
      ],
      "metadata": {
        "colab": {
          "base_uri": "https://localhost:8080/"
        },
        "id": "l53qMcvMul1y",
        "outputId": "18a7fb69-7a3e-4528-be98-47db29eae2ae"
      },
      "execution_count": 6,
      "outputs": [
        {
          "output_type": "stream",
          "name": "stdout",
          "text": [
            "Nome: Danila\n",
            "Ano: 1990\n",
            "Nota mais alta: 10.0\n",
            "Nota mais baixa: 7.0\n",
            "Média: 8.5\n"
          ]
        }
      ]
    },
    {
      "cell_type": "markdown",
      "source": [
        "2) Observe a seguinte tabela.\n",
        "\n",
        "![image.png](data:image/png;base64,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)\n",
        "\n",
        "- Armazene os dados em variaveis\n",
        "- Calcule a quantidade total de funcionários\n",
        "- A diferença entre o salario mais baixo e o mais alto\n",
        "- A média ponderada da faixa salaria da empresa. ( Pesquisar na internet o método para o calculo de média ponderada)\n",
        "\n",
        "Cada resposta deve estar armazenada em sua variável.\n"
      ],
      "metadata": {
        "id": "pjBMylrUUvwF"
      }
    },
    {
      "cell_type": "code",
      "source": [
        "sal_op = 3000\n",
        "sal_lider = 4500\n",
        "sal_ger = 6000"
      ],
      "metadata": {
        "id": "Ujj-k-xKv_tx"
      },
      "execution_count": 7,
      "outputs": []
    },
    {
      "cell_type": "code",
      "source": [
        "num_op = 42\n",
        "num_lider = 9\n",
        "num_ger = 3"
      ],
      "metadata": {
        "id": "JypKiDQ0iBRn"
      },
      "execution_count": 8,
      "outputs": []
    },
    {
      "cell_type": "code",
      "source": [
        "total_func = (num_op + num_lider + num_ger)\n",
        "total_func"
      ],
      "metadata": {
        "colab": {
          "base_uri": "https://localhost:8080/"
        },
        "id": "zwGs78mJicIi",
        "outputId": "df857ff4-2220-41f8-83ec-68a67873264d"
      },
      "execution_count": 9,
      "outputs": [
        {
          "output_type": "execute_result",
          "data": {
            "text/plain": [
              "54"
            ]
          },
          "metadata": {},
          "execution_count": 9
        }
      ]
    },
    {
      "cell_type": "code",
      "source": [
        "maior = max(sal_op, sal_lider,sal_ger)\n",
        "maior"
      ],
      "metadata": {
        "id": "uA2o3YsPDM-J",
        "colab": {
          "base_uri": "https://localhost:8080/"
        },
        "outputId": "cafca2d3-e620-4cf8-b911-d0660317cd64"
      },
      "execution_count": 10,
      "outputs": [
        {
          "output_type": "execute_result",
          "data": {
            "text/plain": [
              "6000"
            ]
          },
          "metadata": {},
          "execution_count": 10
        }
      ]
    },
    {
      "cell_type": "code",
      "source": [
        "menor = min(sal_op, sal_lider,sal_ger)\n",
        "menor"
      ],
      "metadata": {
        "id": "zW-iPD7nHgC7",
        "colab": {
          "base_uri": "https://localhost:8080/"
        },
        "outputId": "1ba59bdd-5f3a-4e02-e1ec-7cc940a2f04d"
      },
      "execution_count": 11,
      "outputs": [
        {
          "output_type": "execute_result",
          "data": {
            "text/plain": [
              "3000"
            ]
          },
          "metadata": {},
          "execution_count": 11
        }
      ]
    },
    {
      "cell_type": "code",
      "source": [
        "diferenca_salarial = (maior - menor)\n",
        "print(f'Diferença entre o maior e menor salário: R$ {diferenca_salarial}')"
      ],
      "metadata": {
        "id": "Xi0Y-7NjHoGy",
        "colab": {
          "base_uri": "https://localhost:8080/"
        },
        "outputId": "fd8001d5-7349-4450-88cc-3859e3c72333"
      },
      "execution_count": 12,
      "outputs": [
        {
          "output_type": "stream",
          "name": "stdout",
          "text": [
            "Diferença entre o maior e menor salário: R$ 3000\n"
          ]
        }
      ]
    },
    {
      "cell_type": "code",
      "source": [
        "media_pond = round(((sal_op*num_op) + (sal_lider*num_lider) + (sal_ger*num_ger)) / total_func, 2)\n",
        "media_pond"
      ],
      "metadata": {
        "colab": {
          "base_uri": "https://localhost:8080/"
        },
        "id": "uaT9IpjKMZjU",
        "outputId": "18fc2224-ad4a-4ae5-cc27-62ebcd709526"
      },
      "execution_count": 17,
      "outputs": [
        {
          "output_type": "execute_result",
          "data": {
            "text/plain": [
              "3416.67"
            ]
          },
          "metadata": {},
          "execution_count": 17
        }
      ]
    },
    {
      "cell_type": "code",
      "source": [],
      "metadata": {
        "id": "KHL2r0XzMZAD"
      },
      "execution_count": null,
      "outputs": []
    },
    {
      "cell_type": "markdown",
      "source": [
        "3) Crie um programa que calcule a área de um circulo a partir de um raio.\n",
        "\n",
        "Dica: Pesquisar na internet a formula usada para calcular a area através da constante Pi, e aplicar no algoritimo a função da biblioteca math que traz esse valor.\n",
        "\n",
        "https://docs.python.org/pt-br/3/library/math.html\n",
        "\n"
      ],
      "metadata": {
        "id": "Wg568Xv7INEn"
      }
    },
    {
      "cell_type": "code",
      "source": [
        "import math as m"
      ],
      "metadata": {
        "id": "XiyG__IaLjx4"
      },
      "execution_count": 13,
      "outputs": []
    },
    {
      "cell_type": "code",
      "source": [
        "raio = float(input('Digite o raio do circulo: '))"
      ],
      "metadata": {
        "colab": {
          "base_uri": "https://localhost:8080/"
        },
        "id": "x6hK9RnWLW2L",
        "outputId": "7d537ca6-cc12-409f-d6f0-44cd17e55832"
      },
      "execution_count": 22,
      "outputs": [
        {
          "name": "stdout",
          "output_type": "stream",
          "text": [
            "Digite o raio do circulo: 2.5\n"
          ]
        }
      ]
    },
    {
      "cell_type": "code",
      "source": [
        "area = round(m.pi*(raio**2),2)\n",
        "print(f'Para o raio:{raio}, a área será: {area}')"
      ],
      "metadata": {
        "colab": {
          "base_uri": "https://localhost:8080/"
        },
        "id": "QOM0xgOtLWyq",
        "outputId": "910759cb-6f1c-4b34-962c-8f8de6e94540"
      },
      "execution_count": 23,
      "outputs": [
        {
          "output_type": "stream",
          "name": "stdout",
          "text": [
            "Para o raio:2.5, a área será: 19.63\n"
          ]
        }
      ]
    }
  ]
}